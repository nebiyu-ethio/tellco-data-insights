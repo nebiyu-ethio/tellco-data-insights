{
 "cells": [
  {
   "cell_type": "code",
   "execution_count": 1,
   "metadata": {},
   "outputs": [],
   "source": [
    "import pandas as pd\n",
    "import numpy as np\n",
    "import matplotlib.pyplot as plt\n",
    "import seaborn as sns\n",
    "from sklearn.decomposition import PCA\n",
    "from sqlalchemy import create_engine\n",
    "from dotenv import load_dotenv\n",
    "import os"
   ]
  },
  {
   "cell_type": "markdown",
   "metadata": {},
   "source": [
    "# Load environment variables from .env file"
   ]
  },
  {
   "cell_type": "code",
   "execution_count": 2,
   "metadata": {},
   "outputs": [
    {
     "data": {
      "text/plain": [
       "True"
      ]
     },
     "execution_count": 2,
     "metadata": {},
     "output_type": "execute_result"
    }
   ],
   "source": [
    "load_dotenv('../.env/.env')"
   ]
  },
  {
   "cell_type": "markdown",
   "metadata": {},
   "source": [
    "# Retrieve database connection details from environment variables"
   ]
  },
  {
   "cell_type": "code",
   "execution_count": 3,
   "metadata": {},
   "outputs": [],
   "source": [
    "db_user = os.getenv('DB_USER')\n",
    "db_password = os.getenv('DB_PASSWORD')\n",
    "db_host = os.getenv('DB_HOST')\n",
    "db_port = os.getenv('DB_PORT')\n",
    "db_name = os.getenv('DB_NAME')\n",
    "table_name = 'xdr_data'"
   ]
  },
  {
   "cell_type": "markdown",
   "metadata": {},
   "source": [
    "# Create the connection string"
   ]
  },
  {
   "cell_type": "code",
   "execution_count": 4,
   "metadata": {},
   "outputs": [],
   "source": [
    "connection_string = f'postgresql+psycopg2://{db_user}:{db_password}@{db_host}:{db_port}/{db_name}'\n",
    "engine = create_engine(connection_string)"
   ]
  },
  {
   "cell_type": "markdown",
   "metadata": {},
   "source": [
    "# Query the data"
   ]
  },
  {
   "cell_type": "code",
   "execution_count": 5,
   "metadata": {},
   "outputs": [],
   "source": [
    "query = 'SELECT * FROM xdr_data'\n",
    "data = pd.read_sql(query, engine)"
   ]
  },
  {
   "cell_type": "markdown",
   "metadata": {},
   "source": [
    "# Display the data"
   ]
  },
  {
   "cell_type": "code",
   "execution_count": 6,
   "metadata": {},
   "outputs": [
    {
     "name": "stdout",
     "output_type": "stream",
     "text": [
      "      Bearer Id            Start  Start ms              End  End ms  \\\n",
      "0  1.311448e+19   4/4/2019 12:01     770.0  4/25/2019 14:35   662.0   \n",
      "1  1.311448e+19   4/9/2019 13:04     235.0   4/25/2019 8:15   606.0   \n",
      "2  1.311448e+19   4/9/2019 17:42       1.0  4/25/2019 11:58   652.0   \n",
      "3  1.311448e+19   4/10/2019 0:31     486.0   4/25/2019 7:36   171.0   \n",
      "4  1.311448e+19  4/12/2019 20:10     565.0  4/25/2019 10:40   954.0   \n",
      "\n",
      "   Dur. (ms)          IMSI  MSISDN/Number          IMEI  \\\n",
      "0  1823652.0  2.082014e+14  33664962239.0  3.552121e+13   \n",
      "1  1365104.0  2.082019e+14  33681854413.0  3.579401e+13   \n",
      "2  1361762.0  2.082003e+14  33760627129.0  3.528151e+13   \n",
      "3  1321509.0  2.082014e+14  33750343200.0  3.535661e+13   \n",
      "4  1089009.0  2.082014e+14  33699795932.0  3.540701e+13   \n",
      "\n",
      "      Last Location Name  ...  Youtube DL (Bytes)  Youtube UL (Bytes)  \\\n",
      "0  9.16456699548519E+015  ...          15854611.0           2501332.0   \n",
      "1                L77566A  ...          20247395.0          19111729.0   \n",
      "2                D42335A  ...          19725661.0          14699576.0   \n",
      "3                T21824A  ...          21388122.0          15146643.0   \n",
      "4                D88865A  ...          15259380.0          18962873.0   \n",
      "\n",
      "   Netflix DL (Bytes)  Netflix UL (Bytes)  Gaming DL (Bytes)  \\\n",
      "0           8198936.0           9656251.0        278082303.0   \n",
      "1          18338413.0          17227132.0        608750074.0   \n",
      "2          17587794.0           6163408.0        229584621.0   \n",
      "3          13994646.0           1097942.0        799538153.0   \n",
      "4          17124581.0            415218.0        527707248.0   \n",
      "\n",
      "   Gaming UL (Bytes)  Other DL (Bytes)  Other UL (Bytes)  Total UL (Bytes)  \\\n",
      "0         14344150.0       171744450.0         8814393.0        36749741.0   \n",
      "1          1170709.0       526904238.0        15055145.0        53800391.0   \n",
      "2           395630.0       410692588.0         4215763.0        27883638.0   \n",
      "3         10849722.0       749039933.0        12797283.0        43324218.0   \n",
      "4          3529801.0       550709500.0        13910322.0        38542814.0   \n",
      "\n",
      "   Total DL (Bytes)  \n",
      "0       308879636.0  \n",
      "1       653384965.0  \n",
      "2       279807335.0  \n",
      "3       846028530.0  \n",
      "4       569138589.0  \n",
      "\n",
      "[5 rows x 55 columns]\n"
     ]
    }
   ],
   "source": [
    "print(data.head())"
   ]
  },
  {
   "cell_type": "code",
   "execution_count": 7,
   "metadata": {},
   "outputs": [
    {
     "name": "stdout",
     "output_type": "stream",
     "text": [
      "<class 'pandas.core.frame.DataFrame'>\n",
      "RangeIndex: 150001 entries, 0 to 150000\n",
      "Data columns (total 55 columns):\n",
      " #   Column                                    Non-Null Count   Dtype  \n",
      "---  ------                                    --------------   -----  \n",
      " 0   Bearer Id                                 150001 non-null  float64\n",
      " 1   Start                                     150001 non-null  object \n",
      " 2   Start ms                                  150001 non-null  float64\n",
      " 3   End                                       150001 non-null  object \n",
      " 4   End ms                                    150001 non-null  float64\n",
      " 5   Dur. (ms)                                 150001 non-null  float64\n",
      " 6   IMSI                                      150001 non-null  float64\n",
      " 7   MSISDN/Number                             150001 non-null  object \n",
      " 8   IMEI                                      150001 non-null  float64\n",
      " 9   Last Location Name                        150001 non-null  object \n",
      " 10  Avg RTT DL (ms)                           150001 non-null  float64\n",
      " 11  Avg RTT UL (ms)                           150001 non-null  float64\n",
      " 12  Avg Bearer TP DL (kbps)                   150001 non-null  float64\n",
      " 13  Avg Bearer TP UL (kbps)                   150001 non-null  float64\n",
      " 14  TCP DL Retrans. Vol (Bytes)               150001 non-null  float64\n",
      " 15  TCP UL Retrans. Vol (Bytes)               150001 non-null  float64\n",
      " 16  DL TP < 50 Kbps (%)                       150001 non-null  float64\n",
      " 17  50 Kbps < DL TP < 250 Kbps (%)            150001 non-null  float64\n",
      " 18  250 Kbps < DL TP < 1 Mbps (%)             150001 non-null  float64\n",
      " 19  DL TP > 1 Mbps (%)                        150001 non-null  float64\n",
      " 20  UL TP < 10 Kbps (%)                       150001 non-null  float64\n",
      " 21  10 Kbps < UL TP < 50 Kbps (%)             150001 non-null  float64\n",
      " 22  50 Kbps < UL TP < 300 Kbps (%)            150001 non-null  float64\n",
      " 23  UL TP > 300 Kbps (%)                      150001 non-null  float64\n",
      " 24  HTTP DL (Bytes)                           150001 non-null  float64\n",
      " 25  HTTP UL (Bytes)                           150001 non-null  float64\n",
      " 26  Activity Duration DL (ms)                 150001 non-null  float64\n",
      " 27  Activity Duration UL (ms)                 150001 non-null  float64\n",
      " 28  Dur. (ms).1                               150001 non-null  float64\n",
      " 29  Handset Manufacturer                      150001 non-null  object \n",
      " 30  Handset Type                              150001 non-null  object \n",
      " 31  Nb of sec with 125000B < Vol DL           150001 non-null  float64\n",
      " 32  Nb of sec with 1250B < Vol UL < 6250B     150001 non-null  float64\n",
      " 33  Nb of sec with 31250B < Vol DL < 125000B  150001 non-null  float64\n",
      " 34  Nb of sec with 37500B < Vol UL            150001 non-null  float64\n",
      " 35  Nb of sec with 6250B < Vol DL < 31250B    150001 non-null  float64\n",
      " 36  Nb of sec with 6250B < Vol UL < 37500B    150001 non-null  float64\n",
      " 37  Nb of sec with Vol DL < 6250B             150001 non-null  float64\n",
      " 38  Nb of sec with Vol UL < 1250B             150001 non-null  float64\n",
      " 39  Social Media DL (Bytes)                   150001 non-null  float64\n",
      " 40  Social Media UL (Bytes)                   150001 non-null  float64\n",
      " 41  Google DL (Bytes)                         150001 non-null  float64\n",
      " 42  Google UL (Bytes)                         150001 non-null  float64\n",
      " 43  Email DL (Bytes)                          150001 non-null  float64\n",
      " 44  Email UL (Bytes)                          150001 non-null  float64\n",
      " 45  Youtube DL (Bytes)                        150001 non-null  float64\n",
      " 46  Youtube UL (Bytes)                        150001 non-null  float64\n",
      " 47  Netflix DL (Bytes)                        150001 non-null  float64\n",
      " 48  Netflix UL (Bytes)                        150001 non-null  float64\n",
      " 49  Gaming DL (Bytes)                         150001 non-null  float64\n",
      " 50  Gaming UL (Bytes)                         150001 non-null  float64\n",
      " 51  Other DL (Bytes)                          150001 non-null  float64\n",
      " 52  Other UL (Bytes)                          150001 non-null  float64\n",
      " 53  Total UL (Bytes)                          150001 non-null  float64\n",
      " 54  Total DL (Bytes)                          150001 non-null  float64\n",
      "dtypes: float64(49), object(6)\n",
      "memory usage: 62.9+ MB\n",
      "None\n"
     ]
    }
   ],
   "source": [
    "print(data.info())"
   ]
  }
 ],
 "metadata": {
  "kernelspec": {
   "display_name": ".env",
   "language": "python",
   "name": "python3"
  },
  "language_info": {
   "codemirror_mode": {
    "name": "ipython",
    "version": 3
   },
   "file_extension": ".py",
   "mimetype": "text/x-python",
   "name": "python",
   "nbconvert_exporter": "python",
   "pygments_lexer": "ipython3",
   "version": "3.12.3"
  }
 },
 "nbformat": 4,
 "nbformat_minor": 2
}
