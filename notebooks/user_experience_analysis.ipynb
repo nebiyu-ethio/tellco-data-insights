{
 "cells": [
  {
   "cell_type": "code",
   "execution_count": 18,
   "metadata": {},
   "outputs": [],
   "source": [
    "import pandas as pd\n",
    "import numpy as np\n",
    "import matplotlib.pyplot as plt\n",
    "import seaborn as sns\n",
    "from sklearn.decomposition import PCA\n",
    "from sklearn.cluster import KMeans\n",
    "from sqlalchemy import create_engine\n",
    "from dotenv import load_dotenv\n",
    "import os"
   ]
  },
  {
   "cell_type": "markdown",
   "metadata": {},
   "source": [
    "# Load environment variables from .env file"
   ]
  },
  {
   "cell_type": "code",
   "execution_count": 2,
   "metadata": {},
   "outputs": [
    {
     "data": {
      "text/plain": [
       "True"
      ]
     },
     "execution_count": 2,
     "metadata": {},
     "output_type": "execute_result"
    }
   ],
   "source": [
    "load_dotenv('../.env/.env')"
   ]
  },
  {
   "cell_type": "markdown",
   "metadata": {},
   "source": [
    "# Retrieve database connection details from environment variables"
   ]
  },
  {
   "cell_type": "code",
   "execution_count": 3,
   "metadata": {},
   "outputs": [],
   "source": [
    "db_user = os.getenv('DB_USER')\n",
    "db_password = os.getenv('DB_PASSWORD')\n",
    "db_host = os.getenv('DB_HOST')\n",
    "db_port = os.getenv('DB_PORT')\n",
    "db_name = os.getenv('DB_NAME')\n",
    "table_name = 'xdr_data'"
   ]
  },
  {
   "cell_type": "markdown",
   "metadata": {},
   "source": [
    "# Create the connection string"
   ]
  },
  {
   "cell_type": "code",
   "execution_count": 4,
   "metadata": {},
   "outputs": [],
   "source": [
    "connection_string = f'postgresql+psycopg2://{db_user}:{db_password}@{db_host}:{db_port}/{db_name}'\n",
    "engine = create_engine(connection_string)"
   ]
  },
  {
   "cell_type": "markdown",
   "metadata": {},
   "source": [
    "# Query the data"
   ]
  },
  {
   "cell_type": "code",
   "execution_count": 5,
   "metadata": {},
   "outputs": [],
   "source": [
    "query = 'SELECT * FROM xdr_data'\n",
    "data = pd.read_sql(query, engine)"
   ]
  },
  {
   "cell_type": "code",
   "execution_count": 6,
   "metadata": {},
   "outputs": [],
   "source": [
    "query = 'SELECT * FROM xdr_data_cleaned'\n",
    "data_cleaned = pd.read_sql(query, engine)"
   ]
  },
  {
   "cell_type": "markdown",
   "metadata": {},
   "source": [
    "# Display the data"
   ]
  },
  {
   "cell_type": "code",
   "execution_count": 7,
   "metadata": {},
   "outputs": [
    {
     "name": "stdout",
     "output_type": "stream",
     "text": [
      "      Bearer Id            Start  Start ms              End  End ms  \\\n",
      "0  1.311448e+19   4/4/2019 12:01     770.0  4/25/2019 14:35   662.0   \n",
      "1  1.311448e+19   4/9/2019 13:04     235.0   4/25/2019 8:15   606.0   \n",
      "2  1.311448e+19   4/9/2019 17:42       1.0  4/25/2019 11:58   652.0   \n",
      "3  1.311448e+19   4/10/2019 0:31     486.0   4/25/2019 7:36   171.0   \n",
      "4  1.311448e+19  4/12/2019 20:10     565.0  4/25/2019 10:40   954.0   \n",
      "\n",
      "   Dur. (ms)          IMSI  MSISDN/Number          IMEI  \\\n",
      "0  1823652.0  2.082014e+14   3.366496e+10  3.552121e+13   \n",
      "1  1365104.0  2.082019e+14   3.368185e+10  3.579401e+13   \n",
      "2  1361762.0  2.082003e+14   3.376063e+10  3.528151e+13   \n",
      "3  1321509.0  2.082014e+14   3.375034e+10  3.535661e+13   \n",
      "4  1089009.0  2.082014e+14   3.369980e+10  3.540701e+13   \n",
      "\n",
      "      Last Location Name  ...  Youtube DL (Bytes)  Youtube UL (Bytes)  \\\n",
      "0  9.16456699548519E+015  ...          15854611.0           2501332.0   \n",
      "1                L77566A  ...          20247395.0          19111729.0   \n",
      "2                D42335A  ...          19725661.0          14699576.0   \n",
      "3                T21824A  ...          21388122.0          15146643.0   \n",
      "4                D88865A  ...          15259380.0          18962873.0   \n",
      "\n",
      "   Netflix DL (Bytes)  Netflix UL (Bytes)  Gaming DL (Bytes)  \\\n",
      "0           8198936.0           9656251.0        278082303.0   \n",
      "1          18338413.0          17227132.0        608750074.0   \n",
      "2          17587794.0           6163408.0        229584621.0   \n",
      "3          13994646.0           1097942.0        799538153.0   \n",
      "4          17124581.0            415218.0        527707248.0   \n",
      "\n",
      "   Gaming UL (Bytes)  Other DL (Bytes)  Other UL (Bytes)  Total UL (Bytes)  \\\n",
      "0         14344150.0       171744450.0         8814393.0        36749741.0   \n",
      "1          1170709.0       526904238.0        15055145.0        53800391.0   \n",
      "2           395630.0       410692588.0         4215763.0        27883638.0   \n",
      "3         10849722.0       749039933.0        12797283.0        43324218.0   \n",
      "4          3529801.0       550709500.0        13910322.0        38542814.0   \n",
      "\n",
      "   Total DL (Bytes)  \n",
      "0       308879636.0  \n",
      "1       653384965.0  \n",
      "2       279807335.0  \n",
      "3       846028530.0  \n",
      "4       569138589.0  \n",
      "\n",
      "[5 rows x 55 columns]\n"
     ]
    }
   ],
   "source": [
    "print(data.head())"
   ]
  },
  {
   "cell_type": "code",
   "execution_count": 8,
   "metadata": {},
   "outputs": [
    {
     "name": "stdout",
     "output_type": "stream",
     "text": [
      "      Bearer Id            Start  Start ms              End  End ms  \\\n",
      "0  1.311448e+19   4/4/2019 12:01     770.0  4/25/2019 14:35   662.0   \n",
      "1  1.311448e+19   4/9/2019 13:04     235.0   4/25/2019 8:15   606.0   \n",
      "2  1.311448e+19   4/9/2019 17:42       1.0  4/25/2019 11:58   652.0   \n",
      "3  1.311448e+19   4/10/2019 0:31     486.0   4/25/2019 7:36   171.0   \n",
      "4  1.311448e+19  4/12/2019 20:10     565.0  4/25/2019 10:40   954.0   \n",
      "\n",
      "   Dur. (ms)          IMSI  MSISDN/Number          IMEI  \\\n",
      "0  1823652.0  2.082014e+14   3.366496e+10  3.552121e+13   \n",
      "1  1365104.0  2.082019e+14   3.368185e+10  3.579401e+13   \n",
      "2  1361762.0  2.082003e+14   3.376063e+10  3.528151e+13   \n",
      "3  1321509.0  2.082014e+14   3.375034e+10  3.535661e+13   \n",
      "4  1089009.0  2.082014e+14   3.369980e+10  3.540701e+13   \n",
      "\n",
      "      Last Location Name  ...  Youtube DL (Bytes)  Youtube UL (Bytes)  \\\n",
      "0  9.16456699548519E+015  ...          15854611.0           2501332.0   \n",
      "1                L77566A  ...          20247395.0          19111729.0   \n",
      "2                D42335A  ...          19725661.0          14699576.0   \n",
      "3                T21824A  ...          21388122.0          15146643.0   \n",
      "4                D88865A  ...          15259380.0          18962873.0   \n",
      "\n",
      "   Netflix DL (Bytes)  Netflix UL (Bytes)  Gaming DL (Bytes)  \\\n",
      "0           8198936.0           9656251.0        278082303.0   \n",
      "1          18338413.0          17227132.0        608750074.0   \n",
      "2          17587794.0           6163408.0        229584621.0   \n",
      "3          13994646.0           1097942.0        799538153.0   \n",
      "4          17124581.0            415218.0        527707248.0   \n",
      "\n",
      "   Gaming UL (Bytes)  Other DL (Bytes)  Other UL (Bytes)  Total UL (Bytes)  \\\n",
      "0         14344150.0       171744450.0         8814393.0        36749741.0   \n",
      "1          1170709.0       526904238.0        15055145.0        53800391.0   \n",
      "2           395630.0       410692588.0         4215763.0        27883638.0   \n",
      "3         10849722.0       749039933.0        12797283.0        43324218.0   \n",
      "4          3529801.0       550709500.0        13910322.0        38542814.0   \n",
      "\n",
      "   Total DL (Bytes)  \n",
      "0       308879636.0  \n",
      "1       653384965.0  \n",
      "2       279807335.0  \n",
      "3       846028530.0  \n",
      "4       569138589.0  \n",
      "\n",
      "[5 rows x 55 columns]\n"
     ]
    }
   ],
   "source": [
    "print(data_cleaned.head())"
   ]
  },
  {
   "cell_type": "code",
   "execution_count": 9,
   "metadata": {},
   "outputs": [
    {
     "name": "stdout",
     "output_type": "stream",
     "text": [
      "<class 'pandas.core.frame.DataFrame'>\n",
      "RangeIndex: 150001 entries, 0 to 150000\n",
      "Data columns (total 55 columns):\n",
      " #   Column                                    Non-Null Count   Dtype  \n",
      "---  ------                                    --------------   -----  \n",
      " 0   Bearer Id                                 149010 non-null  float64\n",
      " 1   Start                                     150000 non-null  object \n",
      " 2   Start ms                                  150000 non-null  float64\n",
      " 3   End                                       150000 non-null  object \n",
      " 4   End ms                                    150000 non-null  float64\n",
      " 5   Dur. (ms)                                 150000 non-null  float64\n",
      " 6   IMSI                                      149431 non-null  float64\n",
      " 7   MSISDN/Number                             148935 non-null  float64\n",
      " 8   IMEI                                      149429 non-null  float64\n",
      " 9   Last Location Name                        148848 non-null  object \n",
      " 10  Avg RTT DL (ms)                           122172 non-null  float64\n",
      " 11  Avg RTT UL (ms)                           122189 non-null  float64\n",
      " 12  Avg Bearer TP DL (kbps)                   150000 non-null  float64\n",
      " 13  Avg Bearer TP UL (kbps)                   150000 non-null  float64\n",
      " 14  TCP DL Retrans. Vol (Bytes)               61855 non-null   float64\n",
      " 15  TCP UL Retrans. Vol (Bytes)               53352 non-null   float64\n",
      " 16  DL TP < 50 Kbps (%)                       149247 non-null  float64\n",
      " 17  50 Kbps < DL TP < 250 Kbps (%)            149247 non-null  float64\n",
      " 18  250 Kbps < DL TP < 1 Mbps (%)             149247 non-null  float64\n",
      " 19  DL TP > 1 Mbps (%)                        149247 non-null  float64\n",
      " 20  UL TP < 10 Kbps (%)                       149209 non-null  float64\n",
      " 21  10 Kbps < UL TP < 50 Kbps (%)             149209 non-null  float64\n",
      " 22  50 Kbps < UL TP < 300 Kbps (%)            149209 non-null  float64\n",
      " 23  UL TP > 300 Kbps (%)                      149209 non-null  float64\n",
      " 24  HTTP DL (Bytes)                           68527 non-null   float64\n",
      " 25  HTTP UL (Bytes)                           68191 non-null   float64\n",
      " 26  Activity Duration DL (ms)                 150000 non-null  float64\n",
      " 27  Activity Duration UL (ms)                 150000 non-null  float64\n",
      " 28  Dur. (ms).1                               150000 non-null  float64\n",
      " 29  Handset Manufacturer                      149429 non-null  object \n",
      " 30  Handset Type                              149429 non-null  object \n",
      " 31  Nb of sec with 125000B < Vol DL           52463 non-null   float64\n",
      " 32  Nb of sec with 1250B < Vol UL < 6250B     57107 non-null   float64\n",
      " 33  Nb of sec with 31250B < Vol DL < 125000B  56415 non-null   float64\n",
      " 34  Nb of sec with 37500B < Vol UL            19747 non-null   float64\n",
      " 35  Nb of sec with 6250B < Vol DL < 31250B    61684 non-null   float64\n",
      " 36  Nb of sec with 6250B < Vol UL < 37500B    38158 non-null   float64\n",
      " 37  Nb of sec with Vol DL < 6250B             149246 non-null  float64\n",
      " 38  Nb of sec with Vol UL < 1250B             149208 non-null  float64\n",
      " 39  Social Media DL (Bytes)                   150001 non-null  float64\n",
      " 40  Social Media UL (Bytes)                   150001 non-null  float64\n",
      " 41  Google DL (Bytes)                         150001 non-null  float64\n",
      " 42  Google UL (Bytes)                         150001 non-null  float64\n",
      " 43  Email DL (Bytes)                          150001 non-null  float64\n",
      " 44  Email UL (Bytes)                          150001 non-null  float64\n",
      " 45  Youtube DL (Bytes)                        150001 non-null  float64\n",
      " 46  Youtube UL (Bytes)                        150001 non-null  float64\n",
      " 47  Netflix DL (Bytes)                        150001 non-null  float64\n",
      " 48  Netflix UL (Bytes)                        150001 non-null  float64\n",
      " 49  Gaming DL (Bytes)                         150001 non-null  float64\n",
      " 50  Gaming UL (Bytes)                         150001 non-null  float64\n",
      " 51  Other DL (Bytes)                          150001 non-null  float64\n",
      " 52  Other UL (Bytes)                          150001 non-null  float64\n",
      " 53  Total UL (Bytes)                          150000 non-null  float64\n",
      " 54  Total DL (Bytes)                          150000 non-null  float64\n",
      "dtypes: float64(50), object(5)\n",
      "memory usage: 62.9+ MB\n",
      "None\n"
     ]
    }
   ],
   "source": [
    "print(data.info())"
   ]
  },
  {
   "cell_type": "code",
   "execution_count": 10,
   "metadata": {},
   "outputs": [
    {
     "name": "stdout",
     "output_type": "stream",
     "text": [
      "<class 'pandas.core.frame.DataFrame'>\n",
      "RangeIndex: 148935 entries, 0 to 148934\n",
      "Data columns (total 55 columns):\n",
      " #   Column                                    Non-Null Count   Dtype  \n",
      "---  ------                                    --------------   -----  \n",
      " 0   Bearer Id                                 148935 non-null  float64\n",
      " 1   Start                                     148935 non-null  object \n",
      " 2   Start ms                                  148935 non-null  float64\n",
      " 3   End                                       148935 non-null  object \n",
      " 4   End ms                                    148935 non-null  float64\n",
      " 5   Dur. (ms)                                 148935 non-null  float64\n",
      " 6   IMSI                                      148935 non-null  float64\n",
      " 7   MSISDN/Number                             148935 non-null  float64\n",
      " 8   IMEI                                      148935 non-null  float64\n",
      " 9   Last Location Name                        148935 non-null  object \n",
      " 10  Avg RTT DL (ms)                           148935 non-null  float64\n",
      " 11  Avg RTT UL (ms)                           148935 non-null  float64\n",
      " 12  Avg Bearer TP DL (kbps)                   148935 non-null  float64\n",
      " 13  Avg Bearer TP UL (kbps)                   148935 non-null  float64\n",
      " 14  TCP DL Retrans. Vol (Bytes)               148935 non-null  float64\n",
      " 15  TCP UL Retrans. Vol (Bytes)               148935 non-null  float64\n",
      " 16  DL TP < 50 Kbps (%)                       148935 non-null  float64\n",
      " 17  50 Kbps < DL TP < 250 Kbps (%)            148935 non-null  float64\n",
      " 18  250 Kbps < DL TP < 1 Mbps (%)             148935 non-null  float64\n",
      " 19  DL TP > 1 Mbps (%)                        148935 non-null  float64\n",
      " 20  UL TP < 10 Kbps (%)                       148935 non-null  float64\n",
      " 21  10 Kbps < UL TP < 50 Kbps (%)             148935 non-null  float64\n",
      " 22  50 Kbps < UL TP < 300 Kbps (%)            148935 non-null  float64\n",
      " 23  UL TP > 300 Kbps (%)                      148935 non-null  float64\n",
      " 24  HTTP DL (Bytes)                           148935 non-null  float64\n",
      " 25  HTTP UL (Bytes)                           148935 non-null  float64\n",
      " 26  Activity Duration DL (ms)                 148935 non-null  float64\n",
      " 27  Activity Duration UL (ms)                 148935 non-null  float64\n",
      " 28  Dur. (ms).1                               148935 non-null  float64\n",
      " 29  Handset Manufacturer                      148935 non-null  object \n",
      " 30  Handset Type                              148935 non-null  object \n",
      " 31  Nb of sec with 125000B < Vol DL           148935 non-null  float64\n",
      " 32  Nb of sec with 1250B < Vol UL < 6250B     148935 non-null  float64\n",
      " 33  Nb of sec with 31250B < Vol DL < 125000B  148935 non-null  float64\n",
      " 34  Nb of sec with 37500B < Vol UL            148935 non-null  float64\n",
      " 35  Nb of sec with 6250B < Vol DL < 31250B    148935 non-null  float64\n",
      " 36  Nb of sec with 6250B < Vol UL < 37500B    148935 non-null  float64\n",
      " 37  Nb of sec with Vol DL < 6250B             148935 non-null  float64\n",
      " 38  Nb of sec with Vol UL < 1250B             148935 non-null  float64\n",
      " 39  Social Media DL (Bytes)                   148935 non-null  float64\n",
      " 40  Social Media UL (Bytes)                   148935 non-null  float64\n",
      " 41  Google DL (Bytes)                         148935 non-null  float64\n",
      " 42  Google UL (Bytes)                         148935 non-null  float64\n",
      " 43  Email DL (Bytes)                          148935 non-null  float64\n",
      " 44  Email UL (Bytes)                          148935 non-null  float64\n",
      " 45  Youtube DL (Bytes)                        148935 non-null  float64\n",
      " 46  Youtube UL (Bytes)                        148935 non-null  float64\n",
      " 47  Netflix DL (Bytes)                        148935 non-null  float64\n",
      " 48  Netflix UL (Bytes)                        148935 non-null  float64\n",
      " 49  Gaming DL (Bytes)                         148935 non-null  float64\n",
      " 50  Gaming UL (Bytes)                         148935 non-null  float64\n",
      " 51  Other DL (Bytes)                          148935 non-null  float64\n",
      " 52  Other UL (Bytes)                          148935 non-null  float64\n",
      " 53  Total UL (Bytes)                          148935 non-null  float64\n",
      " 54  Total DL (Bytes)                          148935 non-null  float64\n",
      "dtypes: float64(50), object(5)\n",
      "memory usage: 62.5+ MB\n",
      "None\n"
     ]
    }
   ],
   "source": [
    "print(data_cleaned.info())"
   ]
  },
  {
   "cell_type": "markdown",
   "metadata": {},
   "source": [
    "# **Task 3** - Experience Analytics"
   ]
  },
  {
   "cell_type": "markdown",
   "metadata": {},
   "source": [
    "# **Task 3.1**: Aggregate metrics per customer"
   ]
  },
  {
   "cell_type": "code",
   "execution_count": 11,
   "metadata": {},
   "outputs": [
    {
     "data": {
      "text/html": [
       "<div>\n",
       "<style scoped>\n",
       "    .dataframe tbody tr th:only-of-type {\n",
       "        vertical-align: middle;\n",
       "    }\n",
       "\n",
       "    .dataframe tbody tr th {\n",
       "        vertical-align: top;\n",
       "    }\n",
       "\n",
       "    .dataframe thead th {\n",
       "        text-align: right;\n",
       "    }\n",
       "</style>\n",
       "<table border=\"1\" class=\"dataframe\">\n",
       "  <thead>\n",
       "    <tr style=\"text-align: right;\">\n",
       "      <th></th>\n",
       "      <th>IMSI</th>\n",
       "      <th>Handset Type</th>\n",
       "      <th>Total_TCP</th>\n",
       "      <th>Total_RTT</th>\n",
       "      <th>Total_Throughput</th>\n",
       "    </tr>\n",
       "  </thead>\n",
       "  <tbody>\n",
       "    <tr>\n",
       "      <th>0</th>\n",
       "      <td>2.040471e+14</td>\n",
       "      <td>Quectel Wireless. Quectel Ec21-E</td>\n",
       "      <td>4.267498e+06</td>\n",
       "      <td>63.234638</td>\n",
       "      <td>2.0</td>\n",
       "    </tr>\n",
       "    <tr>\n",
       "      <th>1</th>\n",
       "      <td>2.040808e+14</td>\n",
       "      <td>Quectel Wireless. Quectel Ec25-E</td>\n",
       "      <td>4.267498e+06</td>\n",
       "      <td>63.234638</td>\n",
       "      <td>1.0</td>\n",
       "    </tr>\n",
       "    <tr>\n",
       "      <th>2</th>\n",
       "      <td>2.082001e+14</td>\n",
       "      <td>Dn Electronics Danew Konnect 350</td>\n",
       "      <td>1.371600e+05</td>\n",
       "      <td>125.795706</td>\n",
       "      <td>109.0</td>\n",
       "    </tr>\n",
       "    <tr>\n",
       "      <th>3</th>\n",
       "      <td>2.082001e+14</td>\n",
       "      <td>Samsung Galaxy Grand (Gt-I9060X)</td>\n",
       "      <td>2.797900e+04</td>\n",
       "      <td>84.000000</td>\n",
       "      <td>754.0</td>\n",
       "    </tr>\n",
       "    <tr>\n",
       "      <th>4</th>\n",
       "      <td>2.082001e+14</td>\n",
       "      <td>Apple iPhone 6S (A1688)</td>\n",
       "      <td>4.267498e+06</td>\n",
       "      <td>92.000000</td>\n",
       "      <td>80.5</td>\n",
       "    </tr>\n",
       "  </tbody>\n",
       "</table>\n",
       "</div>"
      ],
      "text/plain": [
       "           IMSI                      Handset Type     Total_TCP   Total_RTT  \\\n",
       "0  2.040471e+14  Quectel Wireless. Quectel Ec21-E  4.267498e+06   63.234638   \n",
       "1  2.040808e+14  Quectel Wireless. Quectel Ec25-E  4.267498e+06   63.234638   \n",
       "2  2.082001e+14  Dn Electronics Danew Konnect 350  1.371600e+05  125.795706   \n",
       "3  2.082001e+14  Samsung Galaxy Grand (Gt-I9060X)  2.797900e+04   84.000000   \n",
       "4  2.082001e+14           Apple iPhone 6S (A1688)  4.267498e+06   92.000000   \n",
       "\n",
       "   Total_Throughput  \n",
       "0               2.0  \n",
       "1               1.0  \n",
       "2             109.0  \n",
       "3             754.0  \n",
       "4              80.5  "
      ]
     },
     "execution_count": 11,
     "metadata": {},
     "output_type": "execute_result"
    }
   ],
   "source": [
    "# Aggregate per customer\n",
    "aggregated_data = data_cleaned.groupby('IMSI').agg({\n",
    "    'TCP DL Retrans. Vol (Bytes)': 'mean',\n",
    "    'TCP UL Retrans. Vol (Bytes)': 'mean',\n",
    "    'Avg RTT DL (ms)': 'mean',\n",
    "    'Avg RTT UL (ms)': 'mean',\n",
    "    'Avg Bearer TP DL (kbps)': 'mean',\n",
    "    'Avg Bearer TP UL (kbps)': 'mean',\n",
    "    'Handset Type': lambda x: x.mode().iloc[0] if not x.mode().empty else None\n",
    "}).reset_index()\n",
    "\n",
    "# Calculate total TCP retransmission, RTT, and throughput\n",
    "aggregated_data['Total_TCP'] = (aggregated_data['TCP DL Retrans. Vol (Bytes)'] + aggregated_data['TCP UL Retrans. Vol (Bytes)'])\n",
    "aggregated_data['Total_RTT'] = (aggregated_data['Avg RTT DL (ms)'] + aggregated_data['Avg RTT UL (ms)'])\n",
    "aggregated_data['Total_Throughput'] = (aggregated_data['Avg Bearer TP DL (kbps)'] + aggregated_data['Avg Bearer TP UL (kbps)'])\n",
    "\n",
    "# Drop the intermediary columns\n",
    "aggregated_data = aggregated_data.drop(columns=[\n",
    "    'TCP DL Retrans. Vol (Bytes)',\n",
    "    'TCP UL Retrans. Vol (Bytes)',\n",
    "    'Avg RTT DL (ms)',\n",
    "    'Avg RTT UL (ms)',\n",
    "    'Avg Bearer TP DL (kbps)',\n",
    "    'Avg Bearer TP UL (kbps)'\n",
    "])\n",
    "\n",
    "aggregated_data.head()"
   ]
  },
  {
   "cell_type": "markdown",
   "metadata": {},
   "source": [
    "# **Task 3.2**: Compute and list 10 of the top, bottom, and most frequent:\n"
   ]
  },
  {
   "cell_type": "code",
   "execution_count": 12,
   "metadata": {},
   "outputs": [
    {
     "name": "stdout",
     "output_type": "stream",
     "text": [
      "\n",
      "Total TCP Stats\n",
      "\n",
      "Top 10 values:\n",
      "0    2.156957e+07\n",
      "1    2.156957e+07\n",
      "2    2.156957e+07\n",
      "3    2.156957e+07\n",
      "4    2.156957e+07\n",
      "5    2.156957e+07\n",
      "6    2.156957e+07\n",
      "7    2.156957e+07\n",
      "8    2.156957e+07\n",
      "9    2.156957e+07\n",
      "Name: Total_TCP, dtype: float64\n",
      "\n",
      "Bottom 10 values:\n",
      "0     97.0\n",
      "1    128.0\n",
      "2    129.0\n",
      "3    134.0\n",
      "4    143.0\n",
      "5    176.0\n",
      "6    176.0\n",
      "7    177.0\n",
      "8    179.0\n",
      "9    182.0\n",
      "Name: Total_TCP, dtype: float64\n",
      "\n",
      "Most Frequent values:\n",
      "0    4.267498e+06\n",
      "Name: Total_TCP, dtype: float64\n",
      "\n",
      "Total RTT Stats\n",
      "\n",
      "Top 10 values:\n",
      "0    159.0\n",
      "1    159.0\n",
      "2    159.0\n",
      "3    158.0\n",
      "4    158.0\n",
      "5    158.0\n",
      "6    158.0\n",
      "7    157.0\n",
      "8    156.0\n",
      "9    156.0\n",
      "Name: Total_RTT, dtype: float64\n",
      "\n",
      "Bottom 10 values:\n",
      "0     0.0\n",
      "1     0.0\n",
      "2     2.0\n",
      "3     4.0\n",
      "4     5.0\n",
      "5     6.0\n",
      "6     8.0\n",
      "7     9.0\n",
      "8     9.0\n",
      "9    10.0\n",
      "Name: Total_RTT, dtype: float64\n",
      "\n",
      "Most Frequent values:\n",
      "0    63.234638\n",
      "Name: Total_RTT, dtype: float64\n",
      "\n",
      "Total Throughput Stats\n",
      "\n",
      "Top 10 values:\n",
      "0    51675.0\n",
      "1    51513.0\n",
      "2    51440.0\n",
      "3    51423.0\n",
      "4    51383.0\n",
      "5    51230.0\n",
      "6    51225.0\n",
      "7    51220.0\n",
      "8    51155.0\n",
      "9    51132.0\n",
      "Name: Total_Throughput, dtype: float64\n",
      "\n",
      "Bottom 10 values:\n",
      "0    0.0\n",
      "1    0.0\n",
      "2    0.0\n",
      "3    0.0\n",
      "4    0.0\n",
      "5    0.0\n",
      "6    0.0\n",
      "7    0.0\n",
      "8    0.0\n",
      "9    0.0\n",
      "Name: Total_Throughput, dtype: float64\n",
      "\n",
      "Most Frequent values:\n",
      "0    15070.474573\n",
      "Name: Total_Throughput, dtype: float64\n"
     ]
    }
   ],
   "source": [
    "def compute_top_bottom_frequent(data_cleaned, column, top_n=10):\n",
    "    top_values = data_cleaned[column].nlargest(top_n).reset_index(drop=True)\n",
    "    bottom_values = data_cleaned[column].nsmallest(top_n).reset_index(drop=True)\n",
    "    most_frequent_values = data_cleaned[column].mode()\n",
    "    \n",
    "    # If there are fewer than top_n most frequent values, adjust\n",
    "    if len(most_frequent_values) > top_n:\n",
    "        most_frequent_values = most_frequent_values.head(top_n)\n",
    "    \n",
    "    return {\n",
    "        'top': top_values,\n",
    "        'bottom': bottom_values,\n",
    "        'most_frequent': most_frequent_values\n",
    "    }\n",
    "\n",
    "# Compute statistics for each metric\n",
    "tcp_stats = compute_top_bottom_frequent(aggregated_data, 'Total_TCP')\n",
    "rtt_stats = compute_top_bottom_frequent(aggregated_data, 'Total_RTT')\n",
    "throughput_stats = compute_top_bottom_frequent(aggregated_data, 'Total_Throughput')\n",
    "\n",
    "# Function to print the results in a readable format\n",
    "def print_stats(stats, title):\n",
    "    print(f\"\\n{title}\")\n",
    "    print(\"\\nTop 10 values:\")\n",
    "    print(stats['top'])\n",
    "    print(\"\\nBottom 10 values:\")\n",
    "    print(stats['bottom'])\n",
    "    print(\"\\nMost Frequent values:\")\n",
    "    print(stats['most_frequent'])\n",
    "\n",
    "# Print the results for each metric\n",
    "print_stats(tcp_stats, \"Total TCP Stats\")\n",
    "print_stats(rtt_stats, \"Total RTT Stats\")\n",
    "print_stats(throughput_stats, \"Total Throughput Stats\")"
   ]
  },
  {
   "cell_type": "markdown",
   "metadata": {},
   "source": [
    "# **Task 3.3**"
   ]
  },
  {
   "cell_type": "markdown",
   "metadata": {},
   "source": [
    "# Distribution of the average throughput per handset type"
   ]
  },
  {
   "cell_type": "code",
   "execution_count": 13,
   "metadata": {},
   "outputs": [
    {
     "name": "stdout",
     "output_type": "stream",
     "text": [
      "\n",
      "Top 10 Average Throughput per Handset Type:\n",
      "\n",
      "Handset Type\n",
      "Xiaomi Communica. M1803E1A            50942.428647\n",
      "Xiaomi Communica. Redmi Note 2        49381.000000\n",
      "Huawei Nova 2I Huawei Mate 10 Lite    47661.000000\n",
      "Htc 2Q6E100                           47493.000000\n",
      "Lephone U Pro                         45669.000000\n",
      "Huawei Stf-Tl10                       45257.000000\n",
      "Huawei Vns-Dl00                       45143.000000\n",
      "Xiaomi Communica. B5                  44366.000000\n",
      "Samsung Galaxy S9 Sm-G960N            44355.000000\n",
      "Samsung Galaxy On 7                   43773.428647\n",
      "Name: Total_Throughput, dtype: float64\n"
     ]
    }
   ],
   "source": [
    "def report_distribution(data_cleaned, group_col, value_col, top_n=10):\n",
    "    distribution = data_cleaned.groupby(group_col)[value_col].mean()\n",
    "    top_distribution = distribution.sort_values(ascending=False).head(top_n)\n",
    "    return top_distribution\n",
    "\n",
    "throughput_distribution = report_distribution(aggregated_data, 'Handset Type', 'Total_Throughput')\n",
    "\n",
    "print(\"\\nTop 10 Average Throughput per Handset Type:\\n\")\n",
    "print(throughput_distribution)"
   ]
  },
  {
   "cell_type": "markdown",
   "metadata": {},
   "source": [
    "# Average TCP retransmission view per handset type"
   ]
  },
  {
   "cell_type": "code",
   "execution_count": 16,
   "metadata": {},
   "outputs": [
    {
     "name": "stdout",
     "output_type": "stream",
     "text": [
      "\n",
      "Top 10 Average TCP Retransmission per Handset Type:\n",
      "\n",
      "Handset Type\n",
      "Huawei E587 E587U-2 Turkcell Vinnwifi E587    2.156957e+07\n",
      "Sierra Wireless Usb305                        2.156957e+07\n",
      "Huawei Gr5                                    2.156957e+07\n",
      "Huawei Maimang 6                              2.156957e+07\n",
      "Asustek Asus Zenfone Selfie Zd551Kl           2.156957e+07\n",
      "Zyxel Communicat. Lte7460                     2.156957e+07\n",
      "Zyxel Communicat. Sbg3600                     2.156957e+07\n",
      "Tcl Communicatio. Pixi 4 6 3G Android         2.125147e+07\n",
      "Samsung Galaxy Core 2 (Sm-G355X)              2.097485e+07\n",
      "Nubia Technology. Z17 Mini                    2.092174e+07\n",
      "Name: Total_TCP, dtype: float64\n"
     ]
    }
   ],
   "source": [
    "def report_distribution(data_cleaned, group_col, value_col, top_n=10):\n",
    "    distribution = data_cleaned.groupby(group_col)[value_col].mean()\n",
    "    top_distribution = distribution.sort_values(ascending=False).head(top_n)\n",
    "    return top_distribution\n",
    "\n",
    "\n",
    "tcp_distribution = report_distribution(aggregated_data, 'Handset Type', 'Total_TCP')\n",
    "\n",
    "print(\"\\nTop 10 Average TCP Retransmission per Handset Type:\\n\")\n",
    "print(tcp_distribution)"
   ]
  },
  {
   "cell_type": "markdown",
   "metadata": {},
   "source": [
    "# **Task 3.4** Perform k-means clustering"
   ]
  },
  {
   "cell_type": "code",
   "execution_count": 19,
   "metadata": {},
   "outputs": [
    {
     "name": "stdout",
     "output_type": "stream",
     "text": [
      "\n",
      "Cluster Descriptions:\n",
      "                 IMSI     Total_TCP  Total_RTT  Total_Throughput  cluster\n",
      "cluster                                                                  \n",
      "0        2.082016e+14  4.343013e+06  55.562454       3164.015237      0.0\n",
      "1        2.082016e+14  1.894704e+07  97.383783      21140.289318      1.0\n",
      "2        2.082016e+14  9.493927e+05  70.881204      14733.470334      2.0\n"
     ]
    }
   ],
   "source": [
    "features = aggregated_data[['Total_TCP', 'Total_RTT', 'Total_Throughput']]\n",
    "\n",
    "# Apply KMeans clustering\n",
    "kmeans = KMeans(n_clusters=3, random_state=0)\n",
    "kmeans.fit(features)\n",
    "aggregated_data['cluster'] = kmeans.labels_\n",
    "\n",
    "numeric_cols = aggregated_data.select_dtypes(include='number').columns\n",
    "\n",
    "\n",
    "# Describe each cluster with only numeric columns\n",
    "cluster_description = aggregated_data.groupby('cluster')[numeric_cols].mean()\n",
    "print(\"\\nCluster Descriptions:\")\n",
    "print(cluster_description)"
   ]
  }
 ],
 "metadata": {
  "kernelspec": {
   "display_name": ".env",
   "language": "python",
   "name": "python3"
  },
  "language_info": {
   "codemirror_mode": {
    "name": "ipython",
    "version": 3
   },
   "file_extension": ".py",
   "mimetype": "text/x-python",
   "name": "python",
   "nbconvert_exporter": "python",
   "pygments_lexer": "ipython3",
   "version": "3.12.3"
  }
 },
 "nbformat": 4,
 "nbformat_minor": 2
}
