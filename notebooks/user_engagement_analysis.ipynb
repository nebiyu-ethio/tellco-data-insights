{
 "cells": [
  {
   "cell_type": "code",
   "execution_count": 1,
   "metadata": {},
   "outputs": [],
   "source": [
    "import pandas as pd\n",
    "import numpy as np\n",
    "import matplotlib.pyplot as plt\n",
    "import seaborn as sns\n",
    "from sklearn.decomposition import PCA\n",
    "from sqlalchemy import create_engine\n",
    "from dotenv import load_dotenv\n",
    "import os"
   ]
  },
  {
   "cell_type": "markdown",
   "metadata": {},
   "source": [
    "# Load environment variables from .env file"
   ]
  },
  {
   "cell_type": "code",
   "execution_count": 2,
   "metadata": {},
   "outputs": [
    {
     "data": {
      "text/plain": [
       "True"
      ]
     },
     "execution_count": 2,
     "metadata": {},
     "output_type": "execute_result"
    }
   ],
   "source": [
    "load_dotenv('../.env/.env')"
   ]
  },
  {
   "cell_type": "markdown",
   "metadata": {},
   "source": [
    "# Retrieve database connection details from environment variables"
   ]
  },
  {
   "cell_type": "code",
   "execution_count": 3,
   "metadata": {},
   "outputs": [],
   "source": [
    "db_user = os.getenv('DB_USER')\n",
    "db_password = os.getenv('DB_PASSWORD')\n",
    "db_host = os.getenv('DB_HOST')\n",
    "db_port = os.getenv('DB_PORT')\n",
    "db_name = os.getenv('DB_NAME')\n",
    "table_name = 'xdr_data'"
   ]
  },
  {
   "cell_type": "markdown",
   "metadata": {},
   "source": [
    "# Create the connection string"
   ]
  },
  {
   "cell_type": "code",
   "execution_count": 4,
   "metadata": {},
   "outputs": [],
   "source": [
    "connection_string = f'postgresql+psycopg2://{db_user}:{db_password}@{db_host}:{db_port}/{db_name}'\n",
    "engine = create_engine(connection_string)"
   ]
  },
  {
   "cell_type": "markdown",
   "metadata": {},
   "source": [
    "# Query the data"
   ]
  },
  {
   "cell_type": "code",
   "execution_count": 5,
   "metadata": {},
   "outputs": [],
   "source": [
    "query = 'SELECT * FROM xdr_data'\n",
    "data = pd.read_sql(query, engine)"
   ]
  },
  {
   "cell_type": "markdown",
   "metadata": {},
   "source": [
    "# Task 2: User Engagement Analysis"
   ]
  },
  {
   "cell_type": "markdown",
   "metadata": {},
   "source": [
    "# Aggregate Metrics per Customer ID (MSISDN)"
   ]
  },
  {
   "cell_type": "code",
   "execution_count": 20,
   "metadata": {},
   "outputs": [
    {
     "name": "stdout",
     "output_type": "stream",
     "text": [
      "Top 10 by Sessions Frequency:\n",
      "                sessions_frequency  total_duration  total_traffic\n",
      "MSISDN/Number                                                   \n",
      "N/A                          1066    7.255100e+07   9.736730e+11\n",
      "33626320676.0                  18    8.791927e+06   1.599664e+10\n",
      "33614892860.0                  17    9.966898e+06   1.634152e+10\n",
      "33625779332.0                  17    1.855375e+07   1.470127e+10\n",
      "33659725664.0                  16    4.035428e+06   1.388841e+10\n",
      "33675877202.0                  15    4.865947e+06   1.455618e+10\n",
      "33760536639.0                  15    9.279434e+06   1.310481e+10\n",
      "33667163239.0                  13    8.744914e+06   1.045593e+10\n",
      "33603127838.0                  12    6.287761e+06   1.119890e+10\n",
      "33604515716.0                  12    5.207990e+06   9.547813e+09\n",
      "\n",
      "Top 10 by Total Duration:\n",
      "                sessions_frequency  total_duration  total_traffic\n",
      "MSISDN/Number                                                   \n",
      "N/A                          1066    7.255100e+07   9.736730e+11\n",
      "33625779332.0                  17    1.855375e+07   1.470127e+10\n",
      "33614892860.0                  17    9.966898e+06   1.634152e+10\n",
      "33760536639.0                  15    9.279434e+06   1.310481e+10\n",
      "33626320676.0                  18    8.791927e+06   1.599664e+10\n",
      "33667163239.0                  13    8.744914e+06   1.045593e+10\n",
      "33662840755.0                   9    6.614270e+06   7.893475e+09\n",
      "33664693736.0                   9    6.288730e+06   1.054496e+10\n",
      "33603127838.0                  12    6.287761e+06   1.119890e+10\n",
      "33667456716.0                   6    5.649882e+06   5.377518e+09\n",
      "\n",
      "Top 10 by Total Traffic:\n",
      "                sessions_frequency  total_duration  total_traffic\n",
      "MSISDN/Number                                                   \n",
      "N/A                          1066    7.255100e+07   9.736730e+11\n",
      "33614892860.0                  17    9.966898e+06   1.634152e+10\n",
      "33626320676.0                  18    8.791927e+06   1.599664e+10\n",
      "33625779332.0                  17    1.855375e+07   1.470127e+10\n",
      "33675877202.0                  15    4.865947e+06   1.455618e+10\n",
      "33659725664.0                  16    4.035428e+06   1.388841e+10\n",
      "33760536639.0                  15    9.279434e+06   1.310481e+10\n",
      "33666464084.0                  11    4.536757e+06   1.157071e+10\n",
      "33658361927.0                  10    2.131710e+06   1.135818e+10\n",
      "33603127838.0                  12    6.287761e+06   1.119890e+10\n"
     ]
    }
   ],
   "source": [
    "# Define DL and UL columns\n",
    "dl_columns = [\n",
    "    'Social Media DL (Bytes)', \n",
    "    'Google DL (Bytes)', \n",
    "    'Email DL (Bytes)', \n",
    "    'Youtube DL (Bytes)', \n",
    "    'Netflix DL (Bytes)', \n",
    "    'Gaming DL (Bytes)', \n",
    "    'Other DL (Bytes)'\n",
    "]\n",
    "\n",
    "ul_columns = [\n",
    "    'Social Media UL (Bytes)', \n",
    "    'Google UL (Bytes)', \n",
    "    'Email UL (Bytes)', \n",
    "    'Youtube UL (Bytes)', \n",
    "    'Netflix UL (Bytes)', \n",
    "    'Gaming UL (Bytes)', \n",
    "    'Other UL (Bytes)'\n",
    "]\n",
    "\n",
    "agg_data = data.groupby('MSISDN/Number').agg(\n",
    "    sessions_frequency=('Bearer Id', 'count'),\n",
    "    total_duration=('Dur. (ms)', 'sum'),\n",
    "    **{col: (col, 'sum') for col in dl_columns},  # Sum each DL column\n",
    "    **{col: (col, 'sum') for col in ul_columns}   # Sum each UL column\n",
    ")\n",
    "\n",
    "# Calculate total data volume\n",
    "agg_data['total_traffic'] = agg_data[dl_columns].sum(axis=1) + agg_data[ul_columns].sum(axis=1)\n",
    "\n",
    "# Drop the intermediary columns\n",
    "agg_data = agg_data.drop(columns=dl_columns + ul_columns)\n",
    "\n",
    "# Top 10 customers per engagement metric\n",
    "top_sessions = agg_data.nlargest(10, 'sessions_frequency')\n",
    "top_duration = agg_data.nlargest(10, 'total_duration')\n",
    "top_traffic = agg_data.nlargest(10, 'total_traffic')\n",
    "\n",
    "print(top_sessions)\n",
    "print(top_duration)\n",
    "print(top_traffic)"
   ]
  },
  {
   "cell_type": "markdown",
   "metadata": {},
   "source": [
    "# Task 2.1: Clustering and Analysis"
   ]
  },
  {
   "cell_type": "markdown",
   "metadata": {},
   "source": [
    "# Aggregate Metrics per Customer ID (MSISDN)"
   ]
  },
  {
   "cell_type": "code",
   "execution_count": 22,
   "metadata": {},
   "outputs": [
    {
     "name": "stdout",
     "output_type": "stream",
     "text": [
      "Top 10 by Sessions Frequency:\n",
      "                sessions_frequency  total_duration  total_traffic\n",
      "MSISDN/Number                                                   \n",
      "N/A                          1066    7.255100e+07   9.736730e+11\n",
      "33626320676.0                  18    8.791927e+06   1.599664e+10\n",
      "33614892860.0                  17    9.966898e+06   1.634152e+10\n",
      "33625779332.0                  17    1.855375e+07   1.470127e+10\n",
      "33659725664.0                  16    4.035428e+06   1.388841e+10\n",
      "33675877202.0                  15    4.865947e+06   1.455618e+10\n",
      "33760536639.0                  15    9.279434e+06   1.310481e+10\n",
      "33667163239.0                  13    8.744914e+06   1.045593e+10\n",
      "33603127838.0                  12    6.287761e+06   1.119890e+10\n",
      "33604515716.0                  12    5.207990e+06   9.547813e+09\n",
      "\n",
      "Top 10 by Total Duration:\n",
      "                sessions_frequency  total_duration  total_traffic\n",
      "MSISDN/Number                                                   \n",
      "N/A                          1066    7.255100e+07   9.736730e+11\n",
      "33625779332.0                  17    1.855375e+07   1.470127e+10\n",
      "33614892860.0                  17    9.966898e+06   1.634152e+10\n",
      "33760536639.0                  15    9.279434e+06   1.310481e+10\n",
      "33626320676.0                  18    8.791927e+06   1.599664e+10\n",
      "33667163239.0                  13    8.744914e+06   1.045593e+10\n",
      "33662840755.0                   9    6.614270e+06   7.893475e+09\n",
      "33664693736.0                   9    6.288730e+06   1.054496e+10\n",
      "33603127838.0                  12    6.287761e+06   1.119890e+10\n",
      "33667456716.0                   6    5.649882e+06   5.377518e+09\n",
      "\n",
      "Top 10 by Total Traffic:\n",
      "                sessions_frequency  total_duration  total_traffic\n",
      "MSISDN/Number                                                   \n",
      "N/A                          1066    7.255100e+07   9.736730e+11\n",
      "33614892860.0                  17    9.966898e+06   1.634152e+10\n",
      "33626320676.0                  18    8.791927e+06   1.599664e+10\n",
      "33625779332.0                  17    1.855375e+07   1.470127e+10\n",
      "33675877202.0                  15    4.865947e+06   1.455618e+10\n",
      "33659725664.0                  16    4.035428e+06   1.388841e+10\n",
      "33760536639.0                  15    9.279434e+06   1.310481e+10\n",
      "33666464084.0                  11    4.536757e+06   1.157071e+10\n",
      "33658361927.0                  10    2.131710e+06   1.135818e+10\n",
      "33603127838.0                  12    6.287761e+06   1.119890e+10\n"
     ]
    }
   ],
   "source": [
    "# Define DL and UL columns\n",
    "dl_columns = [\n",
    "    'Social Media DL (Bytes)', \n",
    "    'Google DL (Bytes)', \n",
    "    'Email DL (Bytes)', \n",
    "    'Youtube DL (Bytes)', \n",
    "    'Netflix DL (Bytes)', \n",
    "    'Gaming DL (Bytes)', \n",
    "    'Other DL (Bytes)'\n",
    "]\n",
    "\n",
    "ul_columns = [\n",
    "    'Social Media UL (Bytes)', \n",
    "    'Google UL (Bytes)', \n",
    "    'Email UL (Bytes)', \n",
    "    'Youtube UL (Bytes)', \n",
    "    'Netflix UL (Bytes)', \n",
    "    'Gaming UL (Bytes)', \n",
    "    'Other UL (Bytes)'\n",
    "]\n",
    "\n",
    "agg_data = data.groupby('MSISDN/Number').agg(\n",
    "    sessions_frequency=('Bearer Id', 'count'),\n",
    "    total_duration=('Dur. (ms)', 'sum'),\n",
    "    **{col: (col, 'sum') for col in dl_columns},  # Sum each DL column\n",
    "    **{col: (col, 'sum') for col in ul_columns}   # Sum each UL column\n",
    ")\n",
    "\n",
    "# Calculate total data volume\n",
    "agg_data['total_traffic'] = agg_data[dl_columns].sum(axis=1) + agg_data[ul_columns].sum(axis=1)\n",
    "\n",
    "# Drop the intermediary columns\n",
    "agg_data = agg_data.drop(columns=dl_columns + ul_columns)\n",
    "\n",
    "# Top 10 customers per engagement metric\n",
    "top_sessions = agg_data.nlargest(10, 'sessions_frequency')\n",
    "top_duration = agg_data.nlargest(10, 'total_duration')\n",
    "top_traffic = agg_data.nlargest(10, 'total_traffic')\n",
    "\n",
    "print(\"Top 10 by Sessions Frequency:\\n\", top_sessions)\n",
    "print(\"\\nTop 10 by Total Duration:\\n\", top_duration)\n",
    "print(\"\\nTop 10 by Total Traffic:\\n\", top_traffic)"
   ]
  },
  {
   "cell_type": "markdown",
   "metadata": {},
   "source": [
    "# Aggregate User Total Traffic per Application"
   ]
  },
  {
   "cell_type": "code",
   "execution_count": 21,
   "metadata": {},
   "outputs": [
    {
     "name": "stdout",
     "output_type": "stream",
     "text": [
      "Top 10 by Social Media Traffic:\n",
      "                Social Media DL (Bytes)  Youtube DL (Bytes)  \\\n",
      "MSISDN/Number                                                \n",
      "N/A                       1.937715e+09        1.249464e+10   \n",
      "33626320676.0             4.274384e+07        1.640487e+08   \n",
      "33760536639.0             3.929765e+07        1.940683e+08   \n",
      "33659725664.0             3.490044e+07        1.196581e+08   \n",
      "33614892860.0             2.774974e+07        1.998234e+08   \n",
      "33625779332.0             2.656412e+07        2.378830e+08   \n",
      "33667163239.0             2.375375e+07        1.419727e+08   \n",
      "33786323068.0             2.356866e+07        1.181299e+08   \n",
      "33669068942.0             2.347705e+07        1.362953e+08   \n",
      "33603127838.0             2.277668e+07        1.589767e+08   \n",
      "\n",
      "               Netflix DL (Bytes)  Google DL (Bytes)  Email DL (Bytes)  \\\n",
      "MSISDN/Number                                                            \n",
      "N/A                  1.228898e+10       6.007942e+09      1.904048e+09   \n",
      "33626320676.0        1.994792e+08       1.161065e+08      3.340478e+07   \n",
      "33760536639.0        1.465008e+08       8.862653e+07      2.643790e+07   \n",
      "33659725664.0        1.962772e+08       9.095855e+07      2.990765e+07   \n",
      "33614892860.0        1.795860e+08       9.394171e+07      3.360721e+07   \n",
      "33625779332.0        1.939122e+08       1.079047e+08      3.189541e+07   \n",
      "33667163239.0        1.679324e+08       7.170783e+07      2.327675e+07   \n",
      "33786323068.0        1.636027e+08       7.881981e+07      3.087691e+07   \n",
      "33669068942.0        7.892370e+07       5.491522e+07      1.781358e+07   \n",
      "33603127838.0        1.560865e+08       7.394206e+07      2.034373e+07   \n",
      "\n",
      "               Gaming DL (Bytes)  Other DL (Bytes)  \n",
      "MSISDN/Number                                       \n",
      "N/A                 4.527450e+11      4.419283e+11  \n",
      "33626320676.0       6.745734e+09      8.025477e+09  \n",
      "33760536639.0       7.316364e+09      4.590038e+09  \n",
      "33659725664.0       6.609900e+09      6.182551e+09  \n",
      "33614892860.0       7.622035e+09      7.495298e+09  \n",
      "33625779332.0       7.171884e+09      6.201653e+09  \n",
      "33667163239.0       4.623424e+09      4.837534e+09  \n",
      "33786323068.0       4.740903e+09      4.172594e+09  \n",
      "33669068942.0       3.166462e+09      4.540939e+09  \n",
      "33603127838.0       4.108482e+09      6.222705e+09  \n",
      "\n",
      "Top 10 by YouTube Traffic:\n",
      "                Social Media DL (Bytes)  Youtube DL (Bytes)  \\\n",
      "MSISDN/Number                                                \n",
      "N/A                       1.937715e+09        1.249464e+10   \n",
      "33625779332.0             2.656412e+07        2.378830e+08   \n",
      "33614892860.0             2.774974e+07        1.998234e+08   \n",
      "33760536639.0             3.929765e+07        1.940683e+08   \n",
      "33627080969.0             1.743867e+07        1.873233e+08   \n",
      "33760413819.0             2.051577e+07        1.742460e+08   \n",
      "33698792269.0             1.539078e+07        1.669003e+08   \n",
      "33626320676.0             4.274384e+07        1.640487e+08   \n",
      "33603127838.0             2.277668e+07        1.589767e+08   \n",
      "33675877202.0             1.865536e+07        1.586652e+08   \n",
      "\n",
      "               Netflix DL (Bytes)  Google DL (Bytes)  Email DL (Bytes)  \\\n",
      "MSISDN/Number                                                            \n",
      "N/A                  1.228898e+10       6.007942e+09      1.904048e+09   \n",
      "33625779332.0        1.939122e+08       1.079047e+08      3.189541e+07   \n",
      "33614892860.0        1.795860e+08       9.394171e+07      3.360721e+07   \n",
      "33760536639.0        1.465008e+08       8.862653e+07      2.643790e+07   \n",
      "33627080969.0        1.446232e+08       6.272240e+07      1.735396e+07   \n",
      "33760413819.0        1.670238e+08       5.633185e+07      2.179130e+07   \n",
      "33698792269.0        1.030272e+08       5.994399e+07      2.416560e+07   \n",
      "33626320676.0        1.994792e+08       1.161065e+08      3.340478e+07   \n",
      "33603127838.0        1.560865e+08       7.394206e+07      2.034373e+07   \n",
      "33675877202.0        1.616265e+08       8.300299e+07      2.428472e+07   \n",
      "\n",
      "               Gaming DL (Bytes)  Other DL (Bytes)  \n",
      "MSISDN/Number                                       \n",
      "N/A                 4.527450e+11      4.419283e+11  \n",
      "33625779332.0       7.171884e+09      6.201653e+09  \n",
      "33614892860.0       7.622035e+09      7.495298e+09  \n",
      "33760536639.0       7.316364e+09      4.590038e+09  \n",
      "33627080969.0       4.880017e+09      5.039747e+09  \n",
      "33760413819.0       6.170943e+09      3.988504e+09  \n",
      "33698792269.0       5.641128e+09      4.598153e+09  \n",
      "33626320676.0       6.745734e+09      8.025477e+09  \n",
      "33603127838.0       4.108482e+09      6.222705e+09  \n",
      "33675877202.0       6.863307e+09      6.665074e+09  \n",
      "\n",
      "Top 10 by Netflix Traffic:\n",
      "                Social Media DL (Bytes)  Youtube DL (Bytes)  \\\n",
      "MSISDN/Number                                                \n",
      "N/A                       1.937715e+09        1.249464e+10   \n",
      "33626320676.0             4.274384e+07        1.640487e+08   \n",
      "33659725664.0             3.490044e+07        1.196581e+08   \n",
      "33625779332.0             2.656412e+07        2.378830e+08   \n",
      "33614892860.0             2.774974e+07        1.998234e+08   \n",
      "33667163239.0             2.375375e+07        1.419727e+08   \n",
      "33761268199.0             1.420143e+07        1.190565e+08   \n",
      "33760413819.0             2.051577e+07        1.742460e+08   \n",
      "33786323068.0             2.356866e+07        1.181299e+08   \n",
      "33675877202.0             1.865536e+07        1.586652e+08   \n",
      "\n",
      "               Netflix DL (Bytes)  Google DL (Bytes)  Email DL (Bytes)  \\\n",
      "MSISDN/Number                                                            \n",
      "N/A                  1.228898e+10       6.007942e+09      1.904048e+09   \n",
      "33626320676.0        1.994792e+08       1.161065e+08      3.340478e+07   \n",
      "33659725664.0        1.962772e+08       9.095855e+07      2.990765e+07   \n",
      "33625779332.0        1.939122e+08       1.079047e+08      3.189541e+07   \n",
      "33614892860.0        1.795860e+08       9.394171e+07      3.360721e+07   \n",
      "33667163239.0        1.679324e+08       7.170783e+07      2.327675e+07   \n",
      "33761268199.0        1.672611e+08       7.294980e+07      1.576884e+07   \n",
      "33760413819.0        1.670238e+08       5.633185e+07      2.179130e+07   \n",
      "33786323068.0        1.636027e+08       7.881981e+07      3.087691e+07   \n",
      "33675877202.0        1.616265e+08       8.300299e+07      2.428472e+07   \n",
      "\n",
      "               Gaming DL (Bytes)  Other DL (Bytes)  \n",
      "MSISDN/Number                                       \n",
      "N/A                 4.527450e+11      4.419283e+11  \n",
      "33626320676.0       6.745734e+09      8.025477e+09  \n",
      "33659725664.0       6.609900e+09      6.182551e+09  \n",
      "33625779332.0       7.171884e+09      6.201653e+09  \n",
      "33614892860.0       7.622035e+09      7.495298e+09  \n",
      "33667163239.0       4.623424e+09      4.837534e+09  \n",
      "33761268199.0       4.165410e+09      4.997985e+09  \n",
      "33760413819.0       6.170943e+09      3.988504e+09  \n",
      "33786323068.0       4.740903e+09      4.172594e+09  \n",
      "33675877202.0       6.863307e+09      6.665074e+09  \n"
     ]
    }
   ],
   "source": [
    "# Calculate total traffic per application for each user\n",
    "app_traffic = data.groupby('MSISDN/Number').agg({\n",
    "    'Social Media DL (Bytes)': 'sum',\n",
    "    'Youtube DL (Bytes)': 'sum',\n",
    "    'Netflix DL (Bytes)': 'sum',\n",
    "    'Google DL (Bytes)': 'sum',\n",
    "    'Email DL (Bytes)': 'sum',\n",
    "    'Gaming DL (Bytes)': 'sum',\n",
    "    'Other DL (Bytes)': 'sum'\n",
    "})\n",
    "\n",
    "# Top 10 most engaged users per application\n",
    "top_social_media = app_traffic.nlargest(10, 'Social Media DL (Bytes)')\n",
    "top_youtube = app_traffic.nlargest(10, 'Youtube DL (Bytes)')\n",
    "top_netflix = app_traffic.nlargest(10, 'Netflix DL (Bytes)')\n",
    "\n",
    "print(\"Top 10 by Social Media Traffic:\\n\", top_social_media)\n",
    "print(\"\\nTop 10 by YouTube Traffic:\\n\", top_youtube)\n",
    "print(\"\\nTop 10 by Netflix Traffic:\\n\", top_netflix)"
   ]
  },
  {
   "cell_type": "markdown",
   "metadata": {},
   "source": [
    "# Normalize Engagement Metrics"
   ]
  },
  {
   "cell_type": "code",
   "execution_count": 10,
   "metadata": {},
   "outputs": [],
   "source": [
    "from sklearn.preprocessing import StandardScaler\n",
    "\n",
    "scaler = StandardScaler()\n",
    "normalized_data = scaler.fit_transform(agg_data)"
   ]
  },
  {
   "cell_type": "markdown",
   "metadata": {},
   "source": [
    "# Run K-Means Clustering (k=3)"
   ]
  },
  {
   "cell_type": "code",
   "execution_count": 11,
   "metadata": {},
   "outputs": [],
   "source": [
    "from sklearn.cluster import KMeans\n",
    "\n",
    "kmeans = KMeans(n_clusters=3, random_state=42)\n",
    "agg_data['cluster'] = kmeans.fit_predict(normalized_data)"
   ]
  },
  {
   "cell_type": "markdown",
   "metadata": {},
   "source": [
    "# Compute Metrics for Each Cluster"
   ]
  },
  {
   "cell_type": "code",
   "execution_count": 12,
   "metadata": {},
   "outputs": [
    {
     "name": "stdout",
     "output_type": "stream",
     "text": [
      "         min_sessions  max_sessions  avg_sessions  total_sessions  \\\n",
      "cluster                                                             \n",
      "0                   1             7      1.362240          144140   \n",
      "1                1066          1066   1066.000000            1066   \n",
      "2                   1            18      4.588517            4795   \n",
      "\n",
      "         min_duration  max_duration  avg_duration  total_duration  \\\n",
      "cluster                                                             \n",
      "0        7.142000e+03  7.877820e+05  1.348413e+05    1.426769e+10   \n",
      "1        7.255100e+07  7.255100e+07  7.255100e+07    7.255100e+07   \n",
      "2        5.583150e+05  1.855375e+07  1.292961e+06    1.351145e+09   \n",
      "\n",
      "          min_traffic   max_traffic   avg_traffic  total_traffic  \n",
      "cluster                                                           \n",
      "0        5.836229e+07  8.366489e+09  1.248912e+09   1.321486e+14  \n",
      "1        9.736730e+11  9.736730e+11  9.736730e+11   9.736730e+11  \n",
      "2        2.060971e+08  1.634152e+10  4.218584e+09   4.408420e+12  \n"
     ]
    }
   ],
   "source": [
    "cluster_metrics = agg_data.groupby('cluster').agg(\n",
    "    min_sessions=('sessions_frequency', 'min'),\n",
    "    max_sessions=('sessions_frequency', 'max'),\n",
    "    avg_sessions=('sessions_frequency', 'mean'),\n",
    "    total_sessions=('sessions_frequency', 'sum'),\n",
    "    min_duration=('total_duration', 'min'),\n",
    "    max_duration=('total_duration', 'max'),\n",
    "    avg_duration=('total_duration', 'mean'),\n",
    "    total_duration=('total_duration', 'sum'),\n",
    "    min_traffic=('total_traffic', 'min'),\n",
    "    max_traffic=('total_traffic', 'max'),\n",
    "    avg_traffic=('total_traffic', 'mean'),\n",
    "    total_traffic=('total_traffic', 'sum')\n",
    ")\n",
    "\n",
    "print(cluster_metrics)"
   ]
  },
  {
   "cell_type": "markdown",
   "metadata": {},
   "source": [
    "# Visualize Results"
   ]
  },
  {
   "cell_type": "code",
   "execution_count": 13,
   "metadata": {},
   "outputs": [
    {
     "data": {
      "image/png": "[encoded data removed]",
      "text/plain": [
       "<Figure size 640x480 with 1 Axes>"
      ]
     },
     "metadata": {},
     "output_type": "display_data"
    }
   ],
   "source": [
    "import matplotlib.pyplot as plt\n",
    "import seaborn as sns\n",
    "\n",
    "sns.barplot(x=cluster_metrics.index, y=cluster_metrics['avg_sessions'])\n",
    "plt.title('Average Sessions per Cluster')\n",
    "plt.show()"
   ]
  },
  {
   "cell_type": "markdown",
   "metadata": {},
   "source": [
    "# Elbow Method to Optimize k"
   ]
  },
  {
   "cell_type": "code",
   "execution_count": 14,
   "metadata": {},
   "outputs": [
    {
     "data": {
      "image/png": "[encoded data removed]",
      "text/plain": [
       "<Figure size 640x480 with 1 Axes>"
      ]
     },
     "metadata": {},
     "output_type": "display_data"
    }
   ],
   "source": [
    "import matplotlib.pyplot as plt\n",
    "\n",
    "inertia = []\n",
    "for k in range(1, 11):\n",
    "    kmeans = KMeans(n_clusters=k, random_state=42)\n",
    "    kmeans.fit(normalized_data)\n",
    "    inertia.append(kmeans.inertia_)\n",
    "\n",
    "plt.plot(range(1, 11), inertia, marker='o')\n",
    "plt.title('Elbow Method')\n",
    "plt.xlabel('Number of clusters')\n",
    "plt.ylabel('Inertia')\n",
    "plt.show()"
   ]
  },
  {
   "cell_type": "markdown",
   "metadata": {},
   "source": [
    "# Aggregate User Total Traffic per Application"
   ]
  },
  {
   "cell_type": "code",
   "execution_count": 15,
   "metadata": {},
   "outputs": [
    {
     "name": "stdout",
     "output_type": "stream",
     "text": [
      "Gaming DL (Bytes)     6.330713e+13\n",
      "Other DL (Bytes)      6.316550e+13\n",
      "Youtube DL (Bytes)    1.745123e+12\n",
      "dtype: float64\n"
     ]
    }
   ],
   "source": [
    "app_traffic = data[['Social Media DL (Bytes)', 'Youtube DL (Bytes)', 'Netflix DL (Bytes)', \n",
    "                    'Google DL (Bytes)', 'Email DL (Bytes)', 'Gaming DL (Bytes)', 'Other DL (Bytes)']].sum()\n",
    "\n",
    "top_apps = app_traffic.nlargest(3)\n",
    "\n",
    "print(top_apps)"
   ]
  },
  {
   "cell_type": "markdown",
   "metadata": {},
   "source": [
    "# Plot Top 3 Applications"
   ]
  },
  {
   "cell_type": "code",
   "execution_count": 16,
   "metadata": {},
   "outputs": [
    {
     "data": {
      "image/png": "[encoded data removed]",
      "text/plain": [
       "<Figure size 640x480 with 1 Axes>"
      ]
     },
     "metadata": {},
     "output_type": "display_data"
    }
   ],
   "source": [
    "top_apps.plot(kind='bar')\n",
    "plt.title('Top 3 Most Used Applications')\n",
    "plt.ylabel('Total Traffic (Bytes)')\n",
    "plt.show()"
   ]
  }
 ],
 "metadata": {
  "kernelspec": {
   "display_name": ".env",
   "language": "python",
   "name": "python3"
  },
  "language_info": {
   "codemirror_mode": {
    "name": "ipython",
    "version": 3
   },
   "file_extension": ".py",
   "mimetype": "text/x-python",
   "name": "python",
   "nbconvert_exporter": "python",
   "pygments_lexer": "ipython3",
   "version": "3.12.3"
  }
 },
 "nbformat": 4,
 "nbformat_minor": 2
}
